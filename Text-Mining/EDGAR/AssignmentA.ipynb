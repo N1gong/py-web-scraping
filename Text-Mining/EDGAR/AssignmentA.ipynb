{
 "cells": [
  {
   "cell_type": "markdown",
   "metadata": {
    "deletable": true,
    "editable": true
   },
   "source": [
    "# EDGAR - Reading Information Tables in Text Format - Advanced Text Mining (25 marks)"
   ]
  },
  {
   "cell_type": "markdown",
   "metadata": {
    "deletable": true,
    "editable": true
   },
   "source": [
    "#### So far, we have collected CIKs for each of the Mutual Funds, then looked up the links of all the 13F HRs and the Information Tables, and identified them either text tables or xml tables. In class, we  obtained the information from the xml tables.  In this assignment we will obtain information from the text file.  These are not as nicely structured as the xml output.   In a csv (HW_Mutual_Fund_Info_Table_Link.csv) you will find a few of these links.  Your goal for this part of the homework is to obtain the link to the text files from the attached file  (HW_Mutual_Fund_Info_Table_Link.csv).  Then you will write a code that will go to the links of all the linked text files, and extract some columns.  Do not use Beutiful Soup for this assignment.   We provide some initial code to guide your initial steps:"
   ]
  },
  {
   "cell_type": "markdown",
   "metadata": {
    "deletable": true,
    "editable": true
   },
   "source": [
    "#### First we have to collect the links of the text Info Tables in lists:"
   ]
  },
  {
   "cell_type": "code",
   "execution_count": 17,
   "metadata": {},
   "outputs": [],
   "source": [
    "import urllib.request\n",
    "import bs4 as bs\n",
    "from bs4 import SoupStrainer"
   ]
  },
  {
   "cell_type": "code",
   "execution_count": 18,
   "metadata": {
    "collapsed": true,
    "deletable": true,
    "editable": true
   },
   "outputs": [
    {
     "name": "stdout",
     "output_type": "stream",
     "text": [
      "['CIK, Name, Date, Information Table Links, File Type, \\n', '1311981,Adirondack_Funds,2015/11/10,/Archives/edgar/data/1311981/000116204415001166/xslForm13F_X01/infotable.xml,xml,\\n', '1311981,Adirondack_Funds,2013/5/6,/Archives/edgar/data/1311981/000116204413000513/0001162044-13-000513.txt,text,\\n', '813470,ADVANCE_CAPITAL_I_INC,2016/11/1,/Archives/edgar/data/813470/000151597116000610/xslForm13F_X01/infotable.xml,xml,\\n', '813470,ADVANCE_CAPITAL_I_INC,2016/8/9,/Archives/edgar/data/813470/000151597116000570/xslForm13F_X01/infotable.xml,xml,\\n', '813470,ADVANCE_CAPITAL_I_INC,2016/5/9,/Archives/edgar/data/813470/000151597116000494/xslForm13F_X01/infotable.xml,xml,\\n', '813470,ADVANCE_CAPITAL_I_INC,2016/2/8,/Archives/edgar/data/813470/000151597116000435/xslForm13F_X01/infotable.xml,xml,\\n', '813470,ADVANCE_CAPITAL_I_INC,2015/10/27,/Archives/edgar/data/813470/000151597115000375/xslForm13F_X01/infotable.xml,xml,\\n', '813470,ADVANCE_CAPITAL_I_INC,2015/8/3,/Archives/edgar/data/813470/000151597115000255/xslForm13F_X01/infotable.xml,xml,\\n', '813470,ADVANCE_CAPITAL_I_INC,2015/5/7,/Archives/edgar/data/813470/000151597115000139/xslForm13F_X01/infotable.xml,xml,\\n', '813470,ADVANCE_CAPITAL_I_INC,2015/2/5,/Archives/edgar/data/813470/000151597115000031/xslForm13F_X01/infotable.xml,xml,\\n', '813470,ADVANCE_CAPITAL_I_INC,2014/11/7,/Archives/edgar/data/813470/000151597114000479/xslForm13F_X01/infotable.xml,xml,\\n', '813470,ADVANCE_CAPITAL_I_INC,2014/8/5,/Archives/edgar/data/813470/000151597114000334/xslForm13F_X01/infotable.xml,xml,\\n', '813470,ADVANCE_CAPITAL_I_INC,2014/5/15,/Archives/edgar/data/813470/000151597114000215/xslForm13F_X01/infotable.xml,xml,\\n', '813470,ADVANCE_CAPITAL_I_INC,2014/2/6,/Archives/edgar/data/813470/000151597114000035/xslForm13F_X01/infotable.xml,xml,\\n', '813470,ADVANCE_CAPITAL_I_INC,2013/10/21,/Archives/edgar/data/813470/000134467613000058/xslForm13F_X01/infotable.xml,xml,\\n', '813470,ADVANCE_CAPITAL_I_INC,2013/8/13,/Archives/edgar/data/813470/000134467613000042/xslForm13F_X01/infotable.xml,xml,\\n', '813470,ADVANCE_CAPITAL_I_INC,2013/5/1,/Archives/edgar/data/813470/000081347013000006/0000813470-13-000006.txt,text,\\n', '813470,ADVANCE_CAPITAL_I_INC,2013/2/8,/Archives/edgar/data/813470/000081347013000001/0000813470-13-000001.txt,text,\\n', '813470,ADVANCE_CAPITAL_I_INC,2012/11/7,/Archives/edgar/data/813470/000081347012000023/0000813470-12-000023.txt,text,\\n', '813470,ADVANCE_CAPITAL_I_INC,2012/8/9,/Archives/edgar/data/813470/000081347012000019/0000813470-12-000019.txt,text,\\n', '813470,ADVANCE_CAPITAL_I_INC,2012/5/15,/Archives/edgar/data/813470/000081347012000014/0000813470-12-000014.txt,text,\\n', '813470,ADVANCE_CAPITAL_I_INC,2012/2/2,/Archives/edgar/data/813470/000081347012000003/0000813470-12-000003.txt,text,\\n', '813470,ADVANCE_CAPITAL_I_INC,2009/8/6,/Archives/edgar/data/813470/000081347009000009/0000813470-09-000009.txt,text,\\n', '813470,ADVANCE_CAPITAL_I_INC,2009/4/27,/Archives/edgar/data/813470/000081347009000005/0000813470-09-000005.txt,text,\\n', '813470,ADVANCE_CAPITAL_I_INC,2009/1/23,/Archives/edgar/data/813470/000081347009000001/0000813470-09-000001.txt,text,\\n', '813470,ADVANCE_CAPITAL_I_INC,2008/11/10,/Archives/edgar/data/813470/000081347008000023/0000813470-08-000023.txt,text,\\n', '813470,ADVANCE_CAPITAL_I_INC,2008/7/31,/Archives/edgar/data/813470/000081347008000016/0000813470-08-000016.txt,text,\\n', '813470,ADVANCE_CAPITAL_I_INC,2008/5/1,/Archives/edgar/data/813470/000081347008000010/0000813470-08-000010.txt,text,\\n', '813470,ADVANCE_CAPITAL_I_INC,2008/1/25,/Archives/edgar/data/813470/000081347008000003/0000813470-08-000003.txt,text,\\n', '813470,ADVANCE_CAPITAL_I_INC,2007/10/31,/Archives/edgar/data/813470/000081347007000024/0000813470-07-000024.txt,text,\\n', '813470,ADVANCE_CAPITAL_I_INC,2007/7/26,/Archives/edgar/data/813470/000081347007000016/0000813470-07-000016.txt,text,\\n', '813470,ADVANCE_CAPITAL_I_INC,2007/5/2,/Archives/edgar/data/813470/000081347007000012/0000813470-07-000012.txt,text,\\n', '813470,ADVANCE_CAPITAL_I_INC,2007/1/17,/Archives/edgar/data/813470/000081347007000001/0000813470-07-000001.txt,text,\\n', '813470,ADVANCE_CAPITAL_I_INC,2006/10/26,/Archives/edgar/data/813470/000081347006000021/0000813470-06-000021.txt,text,\\n', '813470,ADVANCE_CAPITAL_I_INC,2006/8/8,/Archives/edgar/data/813470/000081347006000015/0000813470-06-000015.txt,text,\\n', '813470,ADVANCE_CAPITAL_I_INC,2006/5/15,/Archives/edgar/data/813470/000081347006000011/0000813470-06-000011.txt,text,\\n', '813470,ADVANCE_CAPITAL_I_INC,2006/5/15,/Archives/edgar/data/813470/000081347006000010/0000813470-06-000010.txt,text,\\n', '813470,ADVANCE_CAPITAL_I_INC,2006/5/9,/Archives/edgar/data/813470/000081347006000009/0000813470-06-000009.txt,text,\\n', '813470,ADVANCE_CAPITAL_I_INC,2006/2/6,/Archives/edgar/data/813470/000081347006000003/0000813470-06-000003.txt,text,\\n', '813470,ADVANCE_CAPITAL_I_INC,2005/11/10,/Archives/edgar/data/813470/000081347005000017/0000813470-05-000017.txt,text,\\n', '813470,ADVANCE_CAPITAL_I_INC,2005/8/2,/Archives/edgar/data/813470/000081347005000011/0000813470-05-000011.txt,text,\\n', '813470,ADVANCE_CAPITAL_I_INC,2005/5/10,/Archives/edgar/data/813470/000081347005000007/0000813470-05-000007.txt,text,\\n', '813470,ADVANCE_CAPITAL_I_INC,2005/2/8,/Archives/edgar/data/813470/000081347005000001/0000813470-05-000001.txt,text,\\n', '813470,ADVANCE_CAPITAL_I_INC,2004/11/12,/Archives/edgar/data/813470/000081347004000015/0000813470-04-000015.txt,text,\\n', '813470,ADVANCE_CAPITAL_I_INC,2004/8/12,/Archives/edgar/data/813470/000081347004000011/0000813470-04-000011.txt,text,\\n', '813470,ADVANCE_CAPITAL_I_INC,2004/5/6,/Archives/edgar/data/813470/000081347004000008/0000813470-04-000008.txt,text,\\n', '813470,ADVANCE_CAPITAL_I_INC,2004/2/11,/Archives/edgar/data/813470/000081347004000001/0000813470-04-000001.txt,text,\\n', '813470,ADVANCE_CAPITAL_I_INC,2003/10/21,/Archives/edgar/data/813470/000081347003000012/0000813470-03-000012.txt,text,\\n', '813470,ADVANCE_CAPITAL_I_INC,2003/8/12,/Archives/edgar/data/813470/000081347003000009/0000813470-03-000009.txt,text,\\n', '813470,ADVANCE_CAPITAL_I_INC,2003/5/5,/Archives/edgar/data/813470/000081347003000007/0000813470-03-000007.txt,text,\\n', '813470,ADVANCE_CAPITAL_I_INC,2003/2/13,/Archives/edgar/data/813470/000081347003000001/0000813470-03-000001.txt,text,\\n', '813470,ADVANCE_CAPITAL_I_INC,2002/11/1,/Archives/edgar/data/813470/000081347002000011/0000813470-02-000011.txt,text,\\n', '813470,ADVANCE_CAPITAL_I_INC,2002/8/6,/Archives/edgar/data/813470/000081347002000008/0000813470-02-000008.txt,text,\\n', '813470,ADVANCE_CAPITAL_I_INC,2002/4/17,/Archives/edgar/data/813470/000081347002000005/0000813470-02-000005.txt,text,\\n', '813470,ADVANCE_CAPITAL_I_INC,2002/2/4,/Archives/edgar/data/813470/000081347002000001/0000813470-02-000001.txt,text,\\n', '813470,ADVANCE_CAPITAL_I_INC,2001/10/24,/Archives/edgar/data/813470/000081347001500011/0000813470-01-500011.txt,text,\\n', '813470,ADVANCE_CAPITAL_I_INC,2001/8/2,/Archives/edgar/data/813470/000081347001500007/0000813470-01-500007.txt,text,\\n', '813470,ADVANCE_CAPITAL_I_INC,2001/5/10,/Archives/edgar/data/813470/000081347001500003/0000813470-01-500003.txt,text,\\n', '813470,ADVANCE_CAPITAL_I_INC,2001/2/13,/Archives/edgar/data/813470/000081347001000001/0000813470-01-000001.txt,text,\\n', '813470,ADVANCE_CAPITAL_I_INC,2000/11/13,/Archives/edgar/data/813470/000081347000000014/0000813470-00-000014.txt,text,\\n', '813470,ADVANCE_CAPITAL_I_INC,2000/8/14,/Archives/edgar/data/813470/000081347000000010/0000813470-00-000010.txt,text,\\n', '813470,ADVANCE_CAPITAL_I_INC,2000/5/30,/Archives/edgar/data/813470/000081347000000008/0000813470-00-000008.txt,text,\\n', '813470,ADVANCE_CAPITAL_I_INC,2000/2/18,/Archives/edgar/data/813470/000081347000000002/0000813470-00-000002.txt,text,\\n', '813470,ADVANCE_CAPITAL_I_INC,1999/11/12,/Archives/edgar/data/813470/000081347099000016/0000813470-99-000016.txt,text,\\n', '813470,ADVANCE_CAPITAL_I_INC,1999/7/30,/Archives/edgar/data/813470/000081347099000012/0000813470-99-000012.txt,text,\\n', '813470,ADVANCE_CAPITAL_I_INC,1999/5/12,/Archives/edgar/data/813470/0000813470-99-000010.txt,text,\\n', '1029068,ADVISORONE_FUNDS,2006/5/4,/Archives/edgar/data/1029068/000091047206000169/0000910472-06-000169.txt,text,\\n', '1029068,ADVISORONE_FUNDS,2006/4/20,/Archives/edgar/data/1029068/000091047206000145/0000910472-06-000145.txt,text,\\n', '3521,ALGER_FUNDS,2002/9/20,/Archives/edgar/data/3521/000093041302002867/0000930413-02-002867.txt,text,\\n', '3521,ALGER_FUNDS,2002/7/18,/Archives/edgar/data/3521/000093041302002284/0000930413-02-002284.txt,text,\\n', '1000207,AMERISTOCK_MUTUAL_FUND_INC,2001/4/17,/Archives/edgar/data/1000207/000075697601500049/0000756976-01-500049.txt,text,\\n', '1000207,AMERISTOCK_MUTUAL_FUND_INC,2001/1/9,/Archives/edgar/data/1000207/000075697601500008/0000756976-01-500008.txt,text,\\n', '1000207,AMERISTOCK_MUTUAL_FUND_INC,2000/1/31,/Archives/edgar/data/1000207/000075697600000013/0000756976-00-000013.txt,text,\\n', '711202,CITIZENS_FUNDS,2001/2/8,/Archives/edgar/data/711202/000091205701004358/0000912057-01-004358.txt,text,\\n', '711202,CITIZENS_FUNDS,2001/1/25,/Archives/edgar/data/711202/000091205701002820/0000912057-01-002820.txt,text,\\n', '777535,COLLEGE_RETIREMENT_EQUITIES_FUND,2002/8/12,/Archives/edgar/data/777535/000088779302000053/0000887793-02-000053.txt,text,\\n', '777535,COLLEGE_RETIREMENT_EQUITIES_FUND,2002/5/10,/Archives/edgar/data/777535/000088779302000038/0000887793-02-000038.txt,text,\\n', '777535,COLLEGE_RETIREMENT_EQUITIES_FUND,1999/5/13,/Archives/edgar/data/777535/0000887793-99-000004.txt,text,\\n', '2110,COLUMBIA_ACORN_TRUST,2005/4/13,/Archives/edgar/data/2110/000000211005000009/0000002110-05-000009.txt,text,\\n', '2110,COLUMBIA_ACORN_TRUST,2005/1/12,/Archives/edgar/data/2110/000000211005000004/0000002110-05-000004.txt,text,\\n', '2110,COLUMBIA_ACORN_TRUST,2004/11/12,/Archives/edgar/data/2110/000000211004000025/0000002110-04-000025.txt,text,\\n', '2110,COLUMBIA_ACORN_TRUST,2004/7/21,/Archives/edgar/data/2110/000000211004000021/0000002110-04-000021.txt,text,\\n', '2110,COLUMBIA_ACORN_TRUST,2004/4/27,/Archives/edgar/data/2110/000000211004000017/0000002110-04-000017.txt,text,\\n', '2110,COLUMBIA_ACORN_TRUST,2004/1/30,/Archives/edgar/data/2110/000000211004000004/0000002110-04-000004.txt,text,\\n', '2110,COLUMBIA_ACORN_TRUST,2003/10/20,/Archives/edgar/data/2110/000000211003000022/0000002110-03-000022.txt,text,\\n', '2110,COLUMBIA_ACORN_TRUST,2003/7/22,/Archives/edgar/data/2110/000000211003000016/0000002110-03-000016.txt,text,\\n', '2110,COLUMBIA_ACORN_TRUST,2003/4/22,/Archives/edgar/data/2110/000000211003000010/0000002110-03-000010.txt,text,\\n', '2110,COLUMBIA_ACORN_TRUST,2003/1/14,/Archives/edgar/data/2110/000000211003000004/0000002110-03-000004.txt,text,\\n', '2110,COLUMBIA_ACORN_TRUST,2002/10/29,/Archives/edgar/data/2110/000000211002000025/0000002110-02-000025.txt,text,\\n', '2110,COLUMBIA_ACORN_TRUST,2002/8/5,/Archives/edgar/data/2110/000000211002000019/0000002110-02-000019.txt,text,\\n', '2110,COLUMBIA_ACORN_TRUST,2002/5/2,/Archives/edgar/data/2110/000000211002000012/0000002110-02-000012.txt,text,\\n', '2110,COLUMBIA_ACORN_TRUST,2002/2/11,/Archives/edgar/data/2110/000000211002000007/0000002110-02-000007.txt,text,\\n', '2110,COLUMBIA_ACORN_TRUST,2001/11/5,/Archives/edgar/data/2110/000000211001500013/0000002110-01-500013.txt,text,\\n', '1157756,COUNTRY_MUTUAL_FUNDS_TRUST,2002/9/25,/Archives/edgar/data/1157756/000089418902001221/0000894189-02-001221.txt,text,\\n', '355437,DFA_INVESTMENT_DIMENSIONS_GROUP_INC,2001/5/18,/Archives/edgar/data/355437/000091205701516743/0000912057-01-516743.txt,text,\\n', '355437,DFA_INVESTMENT_DIMENSIONS_GROUP_INC,2001/1/25,/Archives/edgar/data/355437/000091205701002777/0000912057-01-002777.txt,text,\\n', '355437,DFA_INVESTMENT_DIMENSIONS_GROUP_INC,2000/11/2,/Archives/edgar/data/355437/000091205700046900/0000912057-00-046900.txt,text,\\n', '355437,DFA_INVESTMENT_DIMENSIONS_GROUP_INC,2000/8/29,/Archives/edgar/data/355437/000091205700039376/0000912057-00-039376.txt,text,\\n', '355437,DFA_INVESTMENT_DIMENSIONS_GROUP_INC,2000/5/5,/Archives/edgar/data/355437/000091205700021826/0000912057-00-021826.txt,text,\\n', '355437,DFA_INVESTMENT_DIMENSIONS_GROUP_INC,2000/1/27,/Archives/edgar/data/355437/000091205700002686/0000912057-00-002686.txt,text,\\n', '1002556,EMBARCADERO_FUNDS_INC,2002/7/31,/Archives/edgar/data/1002556/000089706902000535/0000897069-02-000535.txt,text,\\n', '797136,FENIMORE_ASSET_MANAGEMENT_TRUST,2013/10/10,/Archives/edgar/data/797136/000079713613000035/xslForm13F_X01/fam13f9302013.xml,xml,\\n', '917124,FIRSTHAND_FUNDS,2000/8/14,/Archives/edgar/data/917124/000095000500000907/0000950005-00-000907.txt,text,\\n', '749155,GAM_FUNDS_INC,1999/5/14,/Archives/edgar/data/749155/0000930413-99-000648.txt,text,\\n', '1432353,Global_X_Funds,2011/2/14,/Archives/edgar/data/1432353/000114420411008428/0001144204-11-008428.txt,text,\\n', '772129,GMO_TRUST,2005/11/10,/Archives/edgar/data/772129/000107261305002554/0001072613-05-002554.txt,text,\\n', '772129,GMO_TRUST,2005/7/29,/Archives/edgar/data/772129/000107261305001828/0001072613-05-001828.txt,text,\\n', '772129,GMO_TRUST,2005/5/5,/Archives/edgar/data/772129/000107261305001077/0001072613-05-001077.txt,text,\\n', '772129,GMO_TRUST,2005/1/14,/Archives/edgar/data/772129/000107261305000069/0001072613-05-000069.txt,text,\\n', '772129,GMO_TRUST,2004/11/8,/Archives/edgar/data/772129/000107261304002030/0001072613-04-002030.txt,text,\\n', '772129,GMO_TRUST,2004/10/29,/Archives/edgar/data/772129/000107261304001959/0001072613-04-001959.txt,text,\\n', '772129,GMO_TRUST,2004/7/23,/Archives/edgar/data/772129/000107261304001375/0001072613-04-001375.txt,text,\\n', '772129,GMO_TRUST,2004/4/7,/Archives/edgar/data/772129/000107261304000760/0001072613-04-000760.txt,text,\\n', '772129,GMO_TRUST,2004/1/16,/Archives/edgar/data/772129/000107261304000038/0001072613-04-000038.txt,text,\\n', '772129,GMO_TRUST,2003/10/15,/Archives/edgar/data/772129/000107261303001636/0001072613-03-001636.txt,text,\\n', '772129,GMO_TRUST,2003/7/11,/Archives/edgar/data/772129/000107261303001096/0001072613-03-001096.txt,text,\\n', '772129,GMO_TRUST,2003/4/15,/Archives/edgar/data/772129/000107261303000606/0001072613-03-000606.txt,text,\\n', '772129,GMO_TRUST,2003/1/17,/Archives/edgar/data/772129/000107261303000078/0001072613-03-000078.txt,text,\\n', '772129,GMO_TRUST,2002/10/30,/Archives/edgar/data/772129/000107261302001614/0001072613-02-001614.txt,text,\\n', '772129,GMO_TRUST,2002/10/18,/Archives/edgar/data/772129/000107261302001563/0001072613-02-001563.txt,text,\\n', '772129,GMO_TRUST,2002/7/24,/Archives/edgar/data/772129/000107261302001105/0001072613-02-001105.txt,text,\\n', '772129,GMO_TRUST,2002/5/2,/Archives/edgar/data/772129/000107261302000727/0001072613-02-000727.txt,text,\\n', '772129,GMO_TRUST,2002/2/1,/Archives/edgar/data/772129/000107261302000106/0001072613-02-000106.txt,text,\\n', '772129,GMO_TRUST,2002/1/7,/Archives/edgar/data/772129/000107261302000010/0001072613-02-000010.txt,text,\\n', '772129,GMO_TRUST,2001/11/1,/Archives/edgar/data/772129/000107261301501006/0001072613-01-501006.txt,text,\\n', '772129,GMO_TRUST,2001/8/3,/Archives/edgar/data/772129/000107261301500745/0001072613-01-500745.txt,text,\\n', '772129,GMO_TRUST,2001/5/3,/Archives/edgar/data/772129/000107261301500488/0001072613-01-500488.txt,text,\\n', '772129,GMO_TRUST,2001/1/29,/Archives/edgar/data/772129/000107261301500052/0001072613-01-500052.txt,text,\\n', '772129,GMO_TRUST,2000/10/13,/Archives/edgar/data/772129/000107261300000923/0001072613-00-000923.txt,text,\\n', '772129,GMO_TRUST,2000/7/14,/Archives/edgar/data/772129/000107261300000728/0001072613-00-000728.txt,text,\\n', '772129,GMO_TRUST,2000/5/16,/Archives/edgar/data/772129/000107261300000643/0001072613-00-000643.txt,text,\\n', '772129,GMO_TRUST,2000/2/10,/Archives/edgar/data/772129/000107261300000066/0001072613-00-000066.txt,text,\\n', '772129,GMO_TRUST,1999/11/15,/Archives/edgar/data/772129/000107261399000244/0001072613-99-000244.txt,text,\\n', '772129,GMO_TRUST,1999/11/12,/Archives/edgar/data/772129/000107261399000216/0001072613-99-000216.txt,text,\\n', '772129,GMO_TRUST,1999/8/3,/Archives/edgar/data/772129/000107261399000086/0001072613-99-000086.txt,text,\\n', '772129,GMO_TRUST,1999/8/3,/Archives/edgar/data/772129/000107261399000085/0001072613-99-000085.txt,text,\\n', '772129,GMO_TRUST,1999/5/11,/Archives/edgar/data/772129/0000950135-99-002531.txt,text,\\n', '772129,GMO_TRUST,1999/5/11,/Archives/edgar/data/772129/0000950135-99-002530.txt,text,']\n",
      "[]\n"
     ]
    }
   ],
   "source": [
    "import urllib\n",
    "\n",
    "CIK = []\n",
    "text_link = []\n",
    "text_Name = []\n",
    "text_date = []\n",
    "\n",
    "input_file = open('HW_Mutual_Fund_Info_Table_Link.csv', 'r')\n",
    "\n",
    "\n",
    "rows = input_file.readlines()\n",
    "print(rows)\n",
    "input_file.close()\n",
    "\n",
    "# Your Code on Enumerating the Lists.  The result should be three lists, text_link, text_Name,\n",
    "#and text_date.  Each should have length 122.\n",
    "\n",
    "for row in range(1, len(rows)):\n",
    "    column = rows[row].split(\",\")\n",
    "    if column[4] == \"txt\":\n",
    "        text_link.append(column[3])\n",
    "        text_Name.append(column[1])\n",
    "        text_date.append(column[2])\n",
    "print(text_date)"
   ]
  },
  {
   "cell_type": "markdown",
   "metadata": {
    "deletable": true,
    "editable": true
   },
   "source": [
    "#### Keep only the links that correspond to a date after 2010 (Don't inlude 2010, start at 2011).  Hint: you can use the datetime library."
   ]
  },
  {
   "cell_type": "code",
   "execution_count": 7,
   "metadata": {
    "collapsed": true,
    "deletable": true,
    "editable": true
   },
   "outputs": [
    {
     "data": {
      "text/plain": [
       "[]"
      ]
     },
     "execution_count": 7,
     "metadata": {},
     "output_type": "execute_result"
    }
   ],
   "source": [
    "from datetime import datetime as dt\n",
    "\n",
    "#Use the following list to store the filtered values.\n",
    "filtered_dates = []\n",
    "filtered_name = []\n",
    "filtered_link = []\n",
    "\n",
    "#Enter code here to to keep only the dates corresponding to after 2010. \n",
    "\n",
    "text_date_converted = [dt.strptime(x,'%Y-%m-%d') for x in text_date]\n",
    "text_year = [x.year for x in text_date_converted]\n",
    "for pos in range(0, len(text_year)):\n",
    "    if text_year[pos] > 2010:\n",
    "        filtered_dates.append(text_date[pos])\n",
    "        filtered_name.append(text_Name[pos])\n",
    "        filtered_link.append(text_link[pos])\n",
    "filtered_link"
   ]
  },
  {
   "cell_type": "markdown",
   "metadata": {
    "deletable": true,
    "editable": true
   },
   "source": [
    "#### Your filtered list should now have 8 elements.  These represent 3 mutual funds.   The first one has CIK=1311981 (from the link you can find this at data/1311981 ).  The second was has CIK 813470.  The third one has CIK 1432353. \n",
    "\n",
    "['https://www.sec.gov/Archives/edgar/data/1311981/000116204413000513/0001162044-13-000513.txt',\n",
    " 'https://www.sec.gov/Archives/edgar/data/813470/000081347013000006/0000813470-13-000006.txt',\n",
    " 'https://www.sec.gov/Archives/edgar/data/813470/000081347013000001/0000813470-13-000001.txt',\n",
    " 'https://www.sec.gov/Archives/edgar/data/813470/000081347012000023/0000813470-12-000023.txt',\n",
    " 'https://www.sec.gov/Archives/edgar/data/813470/000081347012000019/0000813470-12-000019.txt',\n",
    " 'https://www.sec.gov/Archives/edgar/data/813470/000081347012000014/0000813470-12-000014.txt',\n",
    " 'https://www.sec.gov/Archives/edgar/data/813470/000081347012000003/0000813470-12-000003.txt',\n",
    " 'https://www.sec.gov/Archives/edgar/data/1432353/000114420411008428/0001144204-11-008428.txt']"
   ]
  },
  {
   "cell_type": "markdown",
   "metadata": {
    "deletable": true,
    "editable": true
   },
   "source": [
    "#### Next, for each text link, extract the name of issuer, CUSIP, and the Quantity of shares.  You will also want to keep track of the mutual fund name as well as the filing report date.  \n",
    "\n",
    "#### Your output file should have 5 columns.  The first is the issue date of the form which can be found in the filtered_date list (this will be repeated for the same form).  The second is the mutual fund name which can be found in the filtered_name list (this will be repeated).  The third, fourth and fifith are the name of issuer, CUSIP, and shares respectively.  Make sure to account for the fact that while some of the text files have the same formatting, others do not.  This means you will have to look through them to make sure your code works for the each text file."
   ]
  },
  {
   "cell_type": "code",
   "execution_count": 1,
   "metadata": {},
   "outputs": [
    {
     "name": "stderr",
     "output_type": "stream",
     "text": [
      "/usr/lib/python3.6/importlib/_bootstrap.py:219: RuntimeWarning: numpy.dtype size changed, may indicate binary incompatibility. Expected 96, got 88\n",
      "  return f(*args, **kwds)\n",
      "/usr/lib/python3.6/importlib/_bootstrap.py:219: RuntimeWarning: numpy.dtype size changed, may indicate binary incompatibility. Expected 96, got 88\n",
      "  return f(*args, **kwds)\n"
     ]
    }
   ],
   "source": [
    "import urllib.request\n",
    "import re\n",
    "import pandas as pd\n",
    "from bs4 import BeautifulSoup\n",
    "import requests\n",
    "\n",
    "\n",
    "    "
   ]
  },
  {
   "cell_type": "code",
   "execution_count": 4,
   "metadata": {},
   "outputs": [
    {
     "data": {
      "text/plain": [
       "['https://www.sec.gov/Archives/edgar/data/1311981/000116204413000513/0001162044-13-000513.txt',\n",
       " 'https://www.sec.gov/Archives/edgar/data/813470/000081347013000006/0000813470-13-000006.txt',\n",
       " 'https://www.sec.gov/Archives/edgar/data/813470/000081347013000001/0000813470-13-000001.txt',\n",
       " 'https://www.sec.gov/Archives/edgar/data/813470/000081347012000023/0000813470-12-000023.txt',\n",
       " 'https://www.sec.gov/Archives/edgar/data/813470/000081347012000019/0000813470-12-000019.txt',\n",
       " 'https://www.sec.gov/Archives/edgar/data/813470/000081347012000014/0000813470-12-000014.txt',\n",
       " 'https://www.sec.gov/Archives/edgar/data/813470/000081347012000003/0000813470-12-000003.txt',\n",
       " 'https://www.sec.gov/Archives/edgar/data/1432353/000114420411008428/0001144204-11-008428.txt']"
      ]
     },
     "execution_count": 4,
     "metadata": {},
     "output_type": "execute_result"
    }
   ],
   "source": [
    "urls =[]\n",
    "for link in filtered_link:\n",
    "    urls.append(\"https://www.sec.gov\" + link)\n",
    "urls\n",
    "\n"
   ]
  },
  {
   "cell_type": "code",
   "execution_count": 5,
   "metadata": {},
   "outputs": [],
   "source": [
    "# extract data for link1\n",
    "html_1 = urllib.request.urlopen(urls[0]).read().decode('utf-8')\n",
    "    \n",
    "# keep only the stock holding part\n",
    "start_1 = html_1.upper().find(\"NAME OF ISSUER\")\n",
    "end_1 = html_1.find(\"</TABLE>\")\n",
    "investment_1 = html_1[start_1: end_1-1]\n",
    "   \n",
    "# get the issuer name list \n",
    "name_pool_1 = re.findall(r'\\n[A-Z].*\\s{3,}',investment_1)\n",
    "issuer_name_1=[]\n",
    "for nameline in name_pool_1:\n",
    "    issuer_name_1.append(nameline[1:22].strip())\n",
    "    \n",
    "# get the cusip list\n",
    "cusip_check_1 = re.compile(\"[0-9][A-Z0-9]{8}|[A-Z][0-9]{4}[A-Z][0-9]{3}|[A-Z][0-9]{8}\")\n",
    "cusip_list_1 = cusip_check_1.findall(investment_1)\n",
    "    \n",
    "# get the share list\n",
    "share_check_1 = re.compile(\"[0-9].*\\s[S]\")\n",
    "share_unsorted_1 = share_check_1.findall(investment_1)\n",
    "share_sorted_1 = []\n",
    "for item in share_unsorted_1:\n",
    "    share_sorted_1.append(item[-11:-1].strip())\n",
    "    \n",
    "    # to create dataframe out of these 3 lists\n",
    "dict_1 = {\"Mutual_Fund\":filtered_name[0],\n",
    "       \"Filling_date\":filtered_dates[0],\n",
    "       \"Name_of_Issuer\":issuer_name_1,\n",
    "       \"CUSIP\":cusip_list_1,\n",
    "       \"Quantity_of_Shares\": share_sorted_1}\n",
    "df_1 = pd.DataFrame(dict_1)"
   ]
  },
  {
   "cell_type": "code",
   "execution_count": 6,
   "metadata": {},
   "outputs": [],
   "source": [
    "# extract data for link2\n",
    "html_2 = urllib.request.urlopen(urls[1]).read().decode('utf-8')\n",
    "    \n",
    "# keep only the stock holding part\n",
    "start_2 = html_2.upper().find(\"NAME OF ISSUER\")\n",
    "end_2 = html_2.find(\"</TABLE>\")\n",
    "investment_2 = html_2[start_2: end_2-1]\n",
    "   \n",
    "# get the issuer name list \n",
    "name_pool_2 = re.findall(r'\\n[A-Z].*\\s{3,}',investment_2)\n",
    "issuer_name_2=[]\n",
    "for nameline in name_pool_2:\n",
    "    issuer_name_2.append(nameline[1:22].strip())\n",
    "issuer_name_2.insert(8,\"SSING, INC.\")\n",
    "del issuer_name_2[-1]\n",
    "    \n",
    "# get the cusip list\n",
    "cusip_check_2 = re.compile(\"[0-9][A-Z0-9]{8}|[A-Z][0-9]{4}[A-Z][0-9]{3}|[A-Z][0-9]{8}\")\n",
    "cusip_list_2 = cusip_check_2.findall(investment_2)\n",
    "    \n",
    "# get the share list\n",
    "share_check_2 = re.compile(\"[0-9].*\\\\,[0-9]{3}\\s{3,}\")\n",
    "share_unsorted_2 = share_check_2.findall(investment_2)\n",
    "share_sorted_2 = []\n",
    "for item in share_unsorted_2:\n",
    "    share_sorted_2.append(item[-16:].strip())\n",
    "    \n",
    "    # to create dataframe out of these 3 lists\n",
    "dict_2 = {\"Mutual_Fund\":filtered_name[0],\n",
    "       \"Filling_date\":filtered_dates[0],\n",
    "       \"Name_of_Issuer\":issuer_name_2,\n",
    "       \"CUSIP\":cusip_list_2,\n",
    "       \"Quantity_of_Shares\": share_sorted_2}\n",
    "df_2 = pd.DataFrame(dict_2)"
   ]
  },
  {
   "cell_type": "code",
   "execution_count": 7,
   "metadata": {},
   "outputs": [],
   "source": [
    "# extract data for link3\n",
    "html_3 = urllib.request.urlopen(urls[2]).read().decode('utf-8')\n",
    "    \n",
    "# keep only the stock holding part\n",
    "start_3 = html_3.upper().find(\"NAME OF ISSUER\")\n",
    "end_3 = html_3.find(\"\\n</TABLE>\\n\")\n",
    "investment_3 = html_3[start_3: end_3-1]\n",
    "   \n",
    "# get the issuer name list \n",
    "name_pool_3 = re.findall(r'\\n[A-Z0-9].*\\s{4}',investment_3)\n",
    "issuer_name_3=[]\n",
    "for nameline in name_pool_3:\n",
    "    issuer_name_3.append(nameline[1:22].strip())\n",
    "del issuer_name_3[-1]\n",
    "\n",
    "# get the cusip list\n",
    "cusip_check_3 = re.compile(\"[0-9][A-Z0-9]{8}|[A-Z][0-9]{4}[A-Z][0-9]{3}|[A-Z][0-9]{8}\")\n",
    "cusip_list_3 = cusip_check_3.findall(investment_3)\n",
    "    \n",
    "# get the share list\n",
    "share_check_3 = re.compile(\"\\s[0-9].*\\s{3,}X\")\n",
    "share_unsorted_3 = share_check_3.findall(investment_3)\n",
    "share_sorted_3 = []\n",
    "for item in share_unsorted_3:\n",
    "    share_sorted_3.append(item[-12:-1].strip())\n",
    "    \n",
    "    # to create dataframe out of these 3 lists\n",
    "dict_3 = {\"Mutual_Fund\":filtered_name[0],\n",
    "       \"Filling_date\":filtered_dates[0],\n",
    "       \"Name_of_Issuer\":issuer_name_3,\n",
    "       \"CUSIP\":cusip_list_3,\n",
    "       \"Quantity_of_Shares\": share_sorted_3}\n",
    "df_3 = pd.DataFrame(dict_3)"
   ]
  },
  {
   "cell_type": "code",
   "execution_count": 8,
   "metadata": {},
   "outputs": [],
   "source": [
    "# extract data for link4\n",
    "html_4 = urllib.request.urlopen(urls[3]).read().decode('utf-8')\n",
    "    \n",
    "# keep only the stock holding part\n",
    "start_4 = html_4.upper().find(\"NAME OF ISSUER\")\n",
    "end_4 = html_4.find(\"</TABLE>\")\n",
    "investment_4 = html_4[start_4: end_4-1]\n",
    "   \n",
    "# get the issuer name list \n",
    "name_pool_4 = re.findall(r'\\n[A-Z0-9].*\\s{3,}',investment_4)\n",
    "issuer_name_4=[]\n",
    "for nameline in name_pool_4:\n",
    "    issuer_name_4.append(nameline[1:22].strip())\n",
    "del issuer_name_4[-1]\n",
    "    \n",
    "# get the cusip list\n",
    "cusip_check_4 = re.compile(\"[0-9][A-Z0-9]{8}|[A-Z][0-9]{4}[A-Z][0-9]{3}|[A-Z][0-9]{8}\")\n",
    "cusip_list_4 = cusip_check_4.findall(investment_4)\n",
    "    \n",
    "# get the share list\n",
    "share_check_4 = re.compile(\"[0-9].*\\s\")\n",
    "share_unsorted_4 = share_check_4.findall(investment_4)\n",
    "share_sorted_4 = []\n",
    "for item in share_unsorted_4:\n",
    "    share_sorted_4.append(item[-11:-1].strip())\n",
    "    \n",
    "    # to create dataframe out of these 3 lists\n",
    "dict_4 = {\"Mutual_Fund\":filtered_name[0],\n",
    "       \"Filling_date\":filtered_dates[0],\n",
    "       \"Name_of_Issuer\":issuer_name_4,\n",
    "       \"CUSIP\":cusip_list_4,\n",
    "       \"Quantity_of_Shares\": share_sorted_4}\n",
    "df_4 = pd.DataFrame(dict_4)"
   ]
  },
  {
   "cell_type": "code",
   "execution_count": 9,
   "metadata": {},
   "outputs": [],
   "source": [
    "# extract data for link5\n",
    "html_5 = urllib.request.urlopen(urls[4]).read().decode('utf-8')\n",
    "    \n",
    "# keep only the stock holding part\n",
    "start_5 = html_5.upper().find(\"NAME OF ISSUER\")\n",
    "end_5 = html_5.find(\"</TABLE>\")\n",
    "investment_5 = html_5[start_5: end_5-1]\n",
    "   \n",
    "# get the issuer name list \n",
    "name_pool_5 = re.findall(r'\\n[A-Z0-9].*\\s{3,}',investment_5)\n",
    "issuer_name_5=[]\n",
    "for nameline in name_pool_5:\n",
    "    issuer_name_5.append(nameline[1:22].strip())\n",
    "del issuer_name_5[-1]\n",
    "\n",
    "    \n",
    "# get the cusip list\n",
    "cusip_check_5 = re.compile(\"[0-9][A-Z0-9]{8}|[A-Z][0-9]{4}[A-Z][0-9]{3}|[A-Z][0-9]{8}\")\n",
    "cusip_list_5 = cusip_check_5.findall(investment_5)\n",
    "    \n",
    "# get the share list\n",
    "share_check_5 = re.compile(\"[0-9].*\\s\")\n",
    "share_unsorted_5 = share_check_5.findall(investment_5)\n",
    "share_sorted_5 = []\n",
    "for item in share_unsorted_5:\n",
    "    share_sorted_5.append(item[-11:-1].strip())\n",
    "    \n",
    "    # to create dataframe out of these 3 lists\n",
    "dict_5 = {\"Mutual_Fund\":filtered_name[0],\n",
    "       \"Filling_date\":filtered_dates[0],\n",
    "       \"Name_of_Issuer\":issuer_name_5,\n",
    "       \"CUSIP\":cusip_list_5,\n",
    "       \"Quantity_of_Shares\": share_sorted_5}\n",
    "df_5 = pd.DataFrame(dict_5)"
   ]
  },
  {
   "cell_type": "code",
   "execution_count": 11,
   "metadata": {},
   "outputs": [],
   "source": [
    "# extract data for link6\n",
    "html_6 = urllib.request.urlopen(urls[5]).read().decode('utf-8')\n",
    "    \n",
    "# keep only the stock holding part\n",
    "start_6 = html_6.upper().find(\"NAME OF ISSUER\")\n",
    "end_6 = html_6.find(\"</TABLE>\")\n",
    "investment_6 = html_6[start_6: end_6-1]\n",
    "   \n",
    "# get the issuer name list \n",
    "name_pool_6 = re.findall(r'\\n[A-Z0-9].*\\s{3,}',investment_6)\n",
    "issuer_name_6=[]\n",
    "for nameline in name_pool_6:\n",
    "    issuer_name_6.append(nameline[1:22].strip())\n",
    "del issuer_name_6[-1]\n",
    "    \n",
    "# get the cusip list\n",
    "cusip_check_6 = re.compile(\"[0-9][A-Z0-9]{8}|[A-Z][0-9]{4}[A-Z][0-9]{3}|[A-Z][0-9]{8}\")\n",
    "cusip_list_6 = cusip_check_6.findall(investment_6)\n",
    "    \n",
    "# get the share list\n",
    "share_check_6 = re.compile(\"[0-9].*\\s{3,}X\")\n",
    "share_unsorted_6 = share_check_6.findall(investment_6)\n",
    "share_sorted_6 = []\n",
    "for item in share_unsorted_6:\n",
    "    share_sorted_6.append(item[-11:-1].strip())\n",
    "    \n",
    "    # to create dataframe out of these 3 lists\n",
    "dict_6 = {\"Mutual_Fund\":filtered_name[0],\n",
    "       \"Filling_date\":filtered_dates[0],\n",
    "       \"Name_of_Issuer\":issuer_name_6,\n",
    "       \"CUSIP\":cusip_list_6,\n",
    "       \"Quantity_of_Shares\": share_sorted_6}\n",
    "df_6 = pd.DataFrame(dict_6)"
   ]
  },
  {
   "cell_type": "code",
   "execution_count": 45,
   "metadata": {},
   "outputs": [],
   "source": [
    "# extract data for link7\n",
    "html_7 = urllib.request.urlopen(urls[6]).read().decode('utf-8')\n",
    "    \n",
    "# keep only the stock holding part\n",
    "start_7 = html_7.upper().find(\"NAME OF ISSUER\")\n",
    "end_7 = html_7.find(\"</TEXT>\")\n",
    "investment_7 = html_7[start_7: end_7-1]\n",
    "   \n",
    "# get the issuer name list \n",
    "name_pool_7 = re.findall(r'\\n[A-Z0-9].*\\s{3,}',investment_7)\n",
    "issuer_name_7=[]\n",
    "for nameline in name_pool_7:\n",
    "    if nameline[1:22].strip() != \"NAME OF ISSUER\":\n",
    "        issuer_name_7.append(nameline[1:22].strip())\n",
    "    \n",
    "# get the cusip list\n",
    "cusip_check_7 = re.compile(\"[0-9][A-Z0-9]{8}|[A-Z][0-9]{4}[A-Z][0-9]{3}|[A-Z][0-9]{8}\")\n",
    "cusip_list_7 = cusip_check_7.findall(investment_7)\n",
    "    \n",
    "# get the share list\n",
    "share_check_7 = re.compile(\"[0-9].*\\s{4}[S]\")\n",
    "share_unsorted_7 = share_check_7.findall(investment_7)\n",
    "share_sorted_7 = []\n",
    "for item in share_unsorted_7:\n",
    "    share_sorted_7.append(item[-28:-20].strip())\n",
    "    \n",
    "    # to create dataframe out of these 3 lists\n",
    "dict_7 = {\"Mutual_Fund\":filtered_name[0],\n",
    "       \"Filling_date\":filtered_dates[0],\n",
    "       \"Name_of_Issuer\":issuer_name_7,\n",
    "       \"CUSIP\":cusip_list_7,\n",
    "       \"Quantity_of_Shares\": share_sorted_7}\n",
    "df_7 = pd.DataFrame(dict_7)"
   ]
  },
  {
   "cell_type": "code",
   "execution_count": 19,
   "metadata": {},
   "outputs": [],
   "source": [
    "# extract data for link8\n",
    "html_8 = urllib.request.urlopen(urls[7]).read().decode('utf-8')\n",
    "    \n",
    "# keep only the stock holding part\n",
    "start_8 = html_8.upper().find(\"NAME OF ISSUER\")\n",
    "end_8 = html_8.find(\"</TABLE>\")\n",
    "investment_8 = html_8[start_8: end_8-1]\n",
    "   \n",
    "# get the issuer name list \n",
    "name_pool_8 = re.findall(r'\\n[A-Z].*\\s{3,}',investment_8)\n",
    "issuer_name_8=[]\n",
    "for nameline in name_pool_8:\n",
    "    issuer_name_8.append(nameline[1:22].strip())\n",
    "    \n",
    "# get the cusip list\n",
    "cusip_check_8 = re.compile(\"[0-9][A-Z0-9]{8}|[A-Z][0-9]{4}[A-Z][0-9]{3}|[A-Z][0-9]{8}\")\n",
    "cusip_list_8 = cusip_check_8.findall(investment_8)\n",
    "    \n",
    "# get the share list\n",
    "share_check_8 = re.compile(\"[0-9].*\\s{4}S\")\n",
    "share_unsorted_8 = share_check_8.findall(investment_8)\n",
    "share_sorted_8 = []\n",
    "for item in share_unsorted_8:\n",
    "    share_sorted_8.append(item[-25:-14].strip())\n",
    "    \n",
    "    # to create dataframe out of these 3 lists\n",
    "dict_8 = {\"Mutual_Fund\":filtered_name[0],\n",
    "       \"Filling_date\":filtered_dates[0],\n",
    "       \"Name_of_Issuer\":issuer_name_8,\n",
    "       \"CUSIP\":cusip_list_8,\n",
    "       \"Quantity_of_Shares\": share_sorted_8}\n",
    "df_8 = pd.DataFrame(dict_8)"
   ]
  },
  {
   "cell_type": "markdown",
   "metadata": {
    "deletable": true,
    "editable": true
   },
   "source": [
    "issue_date = []\n",
    "mutual_fund_name = [] \n",
    "name_of_issuer = [] \n",
    "CUSIP = [] # CUSIP number\n",
    "shares = [] # No. of Shares of the company in the Mutual Fund\n"
   ]
  },
  {
   "cell_type": "markdown",
   "metadata": {
    "deletable": true,
    "editable": true
   },
   "source": [
    "#### Finally, you write down the lists in the following file:"
   ]
  },
  {
   "cell_type": "code",
   "execution_count": null,
   "metadata": {
    "collapsed": true,
    "deletable": true,
    "editable": true
   },
   "outputs": [],
   "source": [
    "# Your code goes here\n",
    "\n"
   ]
  },
  {
   "cell_type": "code",
   "execution_count": null,
   "metadata": {
    "collapsed": true,
    "deletable": true,
    "editable": true
   },
   "outputs": [],
   "source": []
  }
 ],
 "metadata": {
  "kernelspec": {
   "display_name": "Python 3",
   "language": "python",
   "name": "python3"
  },
  "language_info": {
   "codemirror_mode": {
    "name": "ipython",
    "version": 3
   },
   "file_extension": ".py",
   "mimetype": "text/x-python",
   "name": "python",
   "nbconvert_exporter": "python",
   "pygments_lexer": "ipython3",
   "version": "3.6.6"
  }
 },
 "nbformat": 4,
 "nbformat_minor": 2
}
