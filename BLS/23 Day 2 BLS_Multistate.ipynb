{
 "cells": [
  {
   "cell_type": "markdown",
   "metadata": {},
   "source": [
    "# Structured Data Download: BLS Example - Multiple States"
   ]
  },
  {
   "cell_type": "markdown",
   "metadata": {},
   "source": [
    "#### Now, what if you had a list of states, and you wanted the unemployment statistics for all these states. "
   ]
  },
  {
   "cell_type": "markdown",
   "metadata": {},
   "source": [
    "#### First, as before, we will need to import the urllib library."
   ]
  },
  {
   "cell_type": "code",
   "execution_count": 1,
   "metadata": {},
   "outputs": [],
   "source": [
    "import urllib.request"
   ]
  },
  {
   "cell_type": "markdown",
   "metadata": {},
   "source": [
    "#### Lets say that you need the states Indiana and Illinois.  We will also need the code of those states."
   ]
  },
  {
   "cell_type": "markdown",
   "metadata": {},
   "source": [
    "#### In the Files Directory BLS folder, there is a file called BLS_state_codes.csv.  This is a csv file, which means that it is comma seperated (columns are seperated by commas).  This has the three states that we want to use with their associated code.  Let's read these into the state_codes list:"
   ]
  },
  {
   "cell_type": "code",
   "execution_count": 2,
   "metadata": {},
   "outputs": [],
   "source": [
    "Input_File = open('Files_Directory/BLS/states.csv','r')\n",
    "Input_File = Input_File.read()    "
   ]
  },
  {
   "cell_type": "code",
   "execution_count": 3,
   "metadata": {},
   "outputs": [
    {
     "data": {
      "text/plain": [
       "['21.Indiana\\n', '31.Mississippi\\n', '37.NewJersey']"
      ]
     },
     "execution_count": 3,
     "metadata": {},
     "output_type": "execute_result"
    }
   ],
   "source": [
    "states_for_url = Input_File.splitlines(1)\n",
    "states_for_url"
   ]
  },
  {
   "cell_type": "markdown",
   "metadata": {},
   "source": [
    "#### We don't need the \\n, so we use option 0 instead:"
   ]
  },
  {
   "cell_type": "code",
   "execution_count": 8,
   "metadata": {},
   "outputs": [
    {
     "data": {
      "text/plain": [
       "['21.Indiana', '20.Illinois', '11.California']"
      ]
     },
     "execution_count": 8,
     "metadata": {},
     "output_type": "execute_result"
    }
   ],
   "source": [
    "states_for_url = Input_File.splitlines(0)\n",
    "states_for_url"
   ]
  },
  {
   "cell_type": "markdown",
   "metadata": {},
   "source": [
    "#### Now, from the previous example, we know how the urls should like:"
   ]
  },
  {
   "cell_type": "markdown",
   "metadata": {},
   "source": [
    "#### https://download.bls.gov/pub/time.series/la/la.data.21.indiana"
   ]
  },
  {
   "cell_type": "markdown",
   "metadata": {},
   "source": [
    "#### https://download.bls.gov/pub/time.series/la/la.data.11.california"
   ]
  },
  {
   "cell_type": "markdown",
   "metadata": {},
   "source": [
    "#### https://download.bls.gov/pub/time.series/la/la.data.20.illinois"
   ]
  },
  {
   "cell_type": "markdown",
   "metadata": {},
   "source": [
    "#### So, we need create three seperate strings because we will need to use the urllib2 library three times to open three different pages.  Simply copying the code from our previous example, we need all the urls from where we are going to get our  files from. We will use loops for this. Since a 'for' loop over a list will automatically iterate through all the elements in the list, we do not have to specify a range for the 'for' loop.  'state' is simply a variable which is assigned to the element of the current iteration from within the list.  Let's look at the following 'for' loop:"
   ]
  },
  {
   "cell_type": "code",
   "execution_count": 9,
   "metadata": {},
   "outputs": [
    {
     "data": {
      "text/plain": [
       "['https://download.bls.gov/pub/time.series/la/la.data.21.Indiana',\n",
       " 'https://download.bls.gov/pub/time.series/la/la.data.20.Illinois',\n",
       " 'https://download.bls.gov/pub/time.series/la/la.data.11.California']"
      ]
     },
     "execution_count": 9,
     "metadata": {},
     "output_type": "execute_result"
    }
   ],
   "source": [
    "urls = []\n",
    "for state in states_for_url:\n",
    "    urls.append('https://download.bls.gov/pub/time.series/la/la.data.' + state)\n",
    "urls"
   ]
  },
  {
   "cell_type": "markdown",
   "metadata": {},
   "source": [
    "#### Now we need to go to each website in the website list, read the file, and then export the returns to a file in our directory. For this, we will be using the same procedure we used in the previous example, except this time we loop through the website list. "
   ]
  },
  {
   "cell_type": "markdown",
   "metadata": {},
   "source": [
    "#### Note that we want each output file to be named after the state.  However, the string in the list of states has the code followed by a period followed by the state.  Lets create a list of state names that does not have the fip nor the period:"
   ]
  },
  {
   "cell_type": "code",
   "execution_count": 10,
   "metadata": {},
   "outputs": [
    {
     "name": "stdout",
     "output_type": "stream",
     "text": [
      "['Indiana', 'Illinois', 'California']\n"
     ]
    }
   ],
   "source": [
    "state_names = []\n",
    "for state in states_for_url:\n",
    "    state_names.append(state[3:])\n",
    "print(state_names)"
   ]
  },
  {
   "cell_type": "markdown",
   "metadata": {},
   "source": [
    "#### In this case, we cannot simply have the for loop give us the state corresponding to the current iteration.  We will not only need  the value of the url, but also the cell reference for state_names.  To accomplish this, we will introduce a variable called 'counter', which is just the count of the current iteration.  This means in the first iteration of the 'for' loop it will be valued at 0, in the second 1, and so forth. "
   ]
  },
  {
   "cell_type": "code",
   "execution_count": 11,
   "metadata": {},
   "outputs": [
    {
     "name": "stdout",
     "output_type": "stream",
     "text": [
      "Indiana\n",
      "Illinois\n",
      "California\n"
     ]
    }
   ],
   "source": [
    "### Why not enumerate\n",
    "for counter in range(0 , len(urls) ):\n",
    "    print(state_names[counter])\n",
    "    html = urllib.request.urlopen(urls[counter]).read().decode('utf-8')\n",
    "    Output_File = open('Files_Directory/BLS/' + state_names[counter] +  '.txt','w')\n",
    "    Output_File.write(html)\n",
    "    Output_File.close()"
   ]
  },
  {
   "cell_type": "code",
   "execution_count": null,
   "metadata": {},
   "outputs": [],
   "source": []
  },
  {
   "cell_type": "code",
   "execution_count": null,
   "metadata": {},
   "outputs": [],
   "source": []
  }
 ],
 "metadata": {
  "kernelspec": {
   "display_name": "Python 3",
   "language": "python",
   "name": "python3"
  },
  "language_info": {
   "codemirror_mode": {
    "name": "ipython",
    "version": 3
   },
   "file_extension": ".py",
   "mimetype": "text/x-python",
   "name": "python",
   "nbconvert_exporter": "python",
   "pygments_lexer": "ipython3",
   "version": "3.6.5"
  }
 },
 "nbformat": 4,
 "nbformat_minor": 2
}
