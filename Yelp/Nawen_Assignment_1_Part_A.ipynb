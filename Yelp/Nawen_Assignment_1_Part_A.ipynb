{
 "cells": [
  {
   "cell_type": "markdown",
   "metadata": {
    "deletable": true,
    "editable": true
   },
   "source": [
    "# EDGAR - Reading Information Tables in Text Format - Advanced Text Mining (25 marks)"
   ]
  },
  {
   "cell_type": "markdown",
   "metadata": {
    "deletable": true,
    "editable": true
   },
   "source": [
    "#### So far, we have collected CIKs for each of the Mutual Funds, then looked up the links of all the 13F HRs and the Information Tables, and identified them either text tables or xml tables. In class, we  obtained the information from the xml tables.  In this assignment we will obtain information from the text file.  These are not as nicely structured as the xml output.   In a csv (HW_Mutual_Fund_Info_Table_Link.csv) you will find a few of these links.  Your goal for this part of the homework is to obtain the link to the text files from the attached file  (HW_Mutual_Fund_Info_Table_Link.csv).  Then you will write a code that will go to the links of all the linked text files, and extract some columns.  Do not use Beutiful Soup for this assignment.   We provide some initial code to guide your initial steps:"
   ]
  },
  {
   "cell_type": "markdown",
   "metadata": {
    "deletable": true,
    "editable": true
   },
   "source": [
    "#### First we have to collect the links of the text Info Tables in lists:"
   ]
  },
  {
   "cell_type": "code",
   "execution_count": 7,
   "metadata": {
    "collapsed": true,
    "deletable": true,
    "editable": true
   },
   "outputs": [
    {
     "name": "stdout",
     "output_type": "stream",
     "text": [
      "['2013/5/6', '2013/5/1', '2013/2/8', '2012/11/7', '2012/8/9', '2012/5/15', '2012/2/2', '2009/8/6', '2009/4/27', '2009/1/23', '2008/11/10', '2008/7/31', '2008/5/1', '2008/1/25', '2007/10/31', '2007/7/26', '2007/5/2', '2007/1/17', '2006/10/26', '2006/8/8', '2006/5/15', '2006/5/15', '2006/5/9', '2006/2/6', '2005/11/10', '2005/8/2', '2005/5/10', '2005/2/8', '2004/11/12', '2004/8/12', '2004/5/6', '2004/2/11', '2003/10/21', '2003/8/12', '2003/5/5', '2003/2/13', '2002/11/1', '2002/8/6', '2002/4/17', '2002/2/4', '2001/10/24', '2001/8/2', '2001/5/10', '2001/2/13', '2000/11/13', '2000/8/14', '2000/5/30', '2000/2/18', '1999/11/12', '1999/7/30', '1999/5/12', '2006/5/4', '2006/4/20', '2002/9/20', '2002/7/18', '2001/4/17', '2001/1/9', '2000/1/31', '2001/2/8', '2001/1/25', '2002/8/12', '2002/5/10', '1999/5/13', '2005/4/13', '2005/1/12', '2004/11/12', '2004/7/21', '2004/4/27', '2004/1/30', '2003/10/20', '2003/7/22', '2003/4/22', '2003/1/14', '2002/10/29', '2002/8/5', '2002/5/2', '2002/2/11', '2001/11/5', '2002/9/25', '2001/5/18', '2001/1/25', '2000/11/2', '2000/8/29', '2000/5/5', '2000/1/27', '2002/7/31', '2000/8/14', '1999/5/14', '2011/2/14', '2005/11/10', '2005/7/29', '2005/5/5', '2005/1/14', '2004/11/8', '2004/10/29', '2004/7/23', '2004/4/7', '2004/1/16', '2003/10/15', '2003/7/11', '2003/4/15', '2003/1/17', '2002/10/30', '2002/10/18', '2002/7/24', '2002/5/2', '2002/2/1', '2002/1/7', '2001/11/1', '2001/8/3', '2001/5/3', '2001/1/29', '2000/10/13', '2000/7/14', '2000/5/16', '2000/2/10', '1999/11/15', '1999/11/12', '1999/8/3', '1999/8/3', '1999/5/11', '1999/5/11']\n"
     ]
    }
   ],
   "source": [
    "import urllib\n",
    "\n",
    "CIK = []\n",
    "text_link = []\n",
    "text_Name = []\n",
    "text_date = []\n",
    "\n",
    "input_file = open('HW_Mutual_Fund_Info_Table_Link.csv', 'r')\n",
    "\n",
    "rows = input_file.readlines()\n",
    "input_file.close()\n",
    "\n",
    "# Your Code on Enumerating the Lists.  The result should be three lists, text_link, text_Name,\n",
    "#and text_date.  Each should have length 122.\n",
    "\n",
    "text_l = []\n",
    "text_N = []\n",
    "text_d = []\n",
    "ind = []\n",
    "for l in rows[1:]:\n",
    "    split_str = l.rstrip('\\n').split(',')\n",
    "    text_l.append(split_str[3])\n",
    "    text_N.append(split_str[1])\n",
    "    text_d.append(split_str[2])\n",
    "\n",
    "for index, value in enumerate(text_l):\n",
    "    if value[-3:] != 'xml':\n",
    "        ind.append(index)\n",
    "        text_link.append(value)\n",
    "\n",
    "\n",
    "for p in ind:\n",
    "    text_Name.append(text_N[p])\n",
    "    text_date.append(text_d[p])\n",
    "    \n",
    "   \n",
    "print(text_date)\n"
   ]
  },
  {
   "cell_type": "markdown",
   "metadata": {
    "deletable": true,
    "editable": true
   },
   "source": [
    "#### Keep only the links that correspond to a date after 2010 (Don't inlude 2010, start at 2011).  Hint: you can use the datetime library."
   ]
  },
  {
   "cell_type": "code",
   "execution_count": 35,
   "metadata": {
    "collapsed": true,
    "deletable": true,
    "editable": true
   },
   "outputs": [
    {
     "name": "stdout",
     "output_type": "stream",
     "text": [
      "8\n"
     ]
    }
   ],
   "source": [
    "from datetime import datetime\n",
    "\n",
    "#Use the following list to store the filtered values.\n",
    "filtered_dates = []\n",
    "filtered_name = []\n",
    "filtered_link = []\n",
    "\n",
    "#Enter code here to to keep only the dates corresponding to after 2010.  \n",
    "\n",
    "\n",
    "for i, v in enumerate(text_date):\n",
    "    if datetime.strptime(text_date[i],'%Y/%m/%d').year >= 2011:\n",
    "        filtered_dates.append(text_date[i])\n",
    "        filtered_name.append(text_Name[i])\n",
    "        filtered_link.append(text_link[i])\n",
    "        \n",
    "print(len(filtered_link))      "
   ]
  },
  {
   "cell_type": "markdown",
   "metadata": {
    "deletable": true,
    "editable": true
   },
   "source": [
    "#### Your filtered list should now have 8 elements.  These represent 3 mutual funds.   The first one has CIK=1311981 (from the link you can find this at data/1311981 ).  The second was has CIK 813470.  The third one has CIK 1432353. \n",
    "\n",
    "['https://www.sec.gov/Archives/edgar/data/1311981/000116204413000513/0001162044-13-000513.txt',\n",
    " 'https://www.sec.gov/Archives/edgar/data/813470/000081347013000006/0000813470-13-000006.txt',\n",
    " 'https://www.sec.gov/Archives/edgar/data/813470/000081347013000001/0000813470-13-000001.txt',\n",
    " 'https://www.sec.gov/Archives/edgar/data/813470/000081347012000023/0000813470-12-000023.txt',\n",
    " 'https://www.sec.gov/Archives/edgar/data/813470/000081347012000019/0000813470-12-000019.txt',\n",
    " 'https://www.sec.gov/Archives/edgar/data/813470/000081347012000014/0000813470-12-000014.txt',\n",
    " 'https://www.sec.gov/Archives/edgar/data/813470/000081347012000003/0000813470-12-000003.txt',\n",
    " 'https://www.sec.gov/Archives/edgar/data/1432353/000114420411008428/0001144204-11-008428.txt']"
   ]
  },
  {
   "cell_type": "markdown",
   "metadata": {
    "deletable": true,
    "editable": true
   },
   "source": [
    "#### Next, for each text link, extract the name of issuer, CUSIP, and the Quantity of shares.  You will also want to keep track of the mutual fund name as well as the filing report date.  \n",
    "\n",
    "#### Your output file should have 5 columns.  The first is the issue date of the form which can be found in the filtered_date list (this will be repeated for the same form).  The second is the mutual fund name which can be found in the filtered_name list (this will be repeated).  The third, fourth and fifith are the name of issuer, CUSIP, and shares respectively.  Make sure to account for the fact that while some of the text files have the same formatting, others do not.  This means you will have to look through them to make sure your code works for the each text file."
   ]
  },
  {
   "cell_type": "code",
   "execution_count": null,
   "metadata": {
    "collapsed": true,
    "deletable": true,
    "editable": true
   },
   "outputs": [],
   "source": [
    "issue_date = []\n",
    "mutual_fund_name = [] \n",
    "name_of_issuer = [] \n",
    "CUSIP = [] # CUSIP number\n",
    "shares = [] # No. of Shares of the company in the Mutual Fund\n",
    "\n",
    "# Your code goes here\n",
    "\n",
    "import urllib  # the lib that handles the url stuff\n",
    "\n",
    "\n",
    "for link in filtered_link:\n",
    "    data = urllib.urlopen(link)\n",
    "    for line in data:\n",
    "        print(line) \n"
   ]
  },
  {
   "cell_type": "markdown",
   "metadata": {
    "deletable": true,
    "editable": true
   },
   "source": [
    "#### Finally, you write down the lists in the following file:"
   ]
  },
  {
   "cell_type": "code",
   "execution_count": 22,
   "metadata": {
    "collapsed": true,
    "deletable": true,
    "editable": true
   },
   "outputs": [],
   "source": [
    "# Your code goes here\n",
    "\n",
    "    \n"
   ]
  },
  {
   "cell_type": "code",
   "execution_count": 30,
   "metadata": {},
   "outputs": [
    {
     "name": "stdout",
     "output_type": "stream",
     "text": [
      "[]\n"
     ]
    }
   ],
   "source": [
    "LINK=[]\n",
    "for i, v in enumerate(filtered_dates):\n",
    "    for m, n in enumerate(text_link):\n",
    "        if text_date[m] == filtered_dates[i]:\n",
    "            LINK.append(text_link[m])\n",
    "            \n",
    "    \n",
    "print(LINK)        \n",
    "    "
   ]
  },
  {
   "cell_type": "code",
   "execution_count": null,
   "metadata": {
    "collapsed": true,
    "deletable": true,
    "editable": true
   },
   "outputs": [],
   "source": []
  }
 ],
 "metadata": {
  "kernelspec": {
   "display_name": "Python 3",
   "language": "python",
   "name": "python3"
  },
  "language_info": {
   "codemirror_mode": {
    "name": "ipython",
    "version": 3
   },
   "file_extension": ".py",
   "mimetype": "text/x-python",
   "name": "python",
   "nbconvert_exporter": "python",
   "pygments_lexer": "ipython3",
   "version": "3.6.5"
  }
 },
 "nbformat": 4,
 "nbformat_minor": 2
}
