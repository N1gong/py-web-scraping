{
 "cells": [
  {
   "cell_type": "markdown",
   "metadata": {
    "deletable": true,
    "editable": true
   },
   "source": [
    "# Assignment 2 Part A - Getting the data on 10 K filings in a dataframe (10 marks)"
   ]
  },
  {
   "cell_type": "markdown",
   "metadata": {
    "deletable": true,
    "editable": true
   },
   "source": [
    "#### In this part of the assignment you are provided a list of mutual funds and the companies that were dropped from their portfolios.  We want to obtain the 10-K filings for these companies.  In the file (Dropped_Companies.csv), there is a column called \"Name of Stock\".  Load the file, extract a list of all the companies in that column, then find the 10-K links for all these companies.  Feel free to utilize Beautiful Soup and Pandas."
   ]
  },
  {
   "cell_type": "markdown",
   "metadata": {
    "deletable": true,
    "editable": true
   },
   "source": [
    "#### First, start with the importing of the relevant libraries:"
   ]
  },
  {
   "cell_type": "code",
   "execution_count": 214,
   "metadata": {
    "collapsed": true,
    "deletable": true,
    "editable": true
   },
   "outputs": [],
   "source": [
    "import pandas as pd\n",
    "import urllib\n",
    "from bs4 import BeautifulSoup\n",
    "from bs4 import SoupStrainer"
   ]
  },
  {
   "cell_type": "markdown",
   "metadata": {
    "deletable": true,
    "editable": true
   },
   "source": [
    "#### You will be populating the following lists:"
   ]
  },
  {
   "cell_type": "code",
   "execution_count": 215,
   "metadata": {
    "collapsed": true,
    "deletable": true,
    "editable": true
   },
   "outputs": [],
   "source": [
    "weblink = []\n",
    "filing_type = []\n",
    "company_name = []\n",
    "date = []"
   ]
  },
  {
   "cell_type": "markdown",
   "metadata": {
    "deletable": true,
    "editable": true
   },
   "source": [
    "#### Upload the Dropped_Companies.csv file."
   ]
  },
  {
   "cell_type": "code",
   "execution_count": 216,
   "metadata": {
    "collapsed": true,
    "deletable": true,
    "editable": true
   },
   "outputs": [],
   "source": [
    "df = pd.read_csv('Dropped_Companies.csv')"
   ]
  },
  {
   "cell_type": "code",
   "execution_count": 217,
   "metadata": {},
   "outputs": [],
   "source": [
    "df = pd.read_csv('Dropped_Companies.csv')\n",
    "\n",
    "\n",
    "company_name = df.iloc[:,4].tolist()\n"
   ]
  },
  {
   "cell_type": "code",
   "execution_count": 218,
   "metadata": {},
   "outputs": [
    {
     "data": {
      "text/plain": [
       "'https://www.sec.gov/cgi-bin/browse-edgar?action=getcompany&company=KEMPER+CORP&type=10-K&dateb=&owner=exclude&count=100'"
      ]
     },
     "execution_count": 218,
     "metadata": {},
     "output_type": "execute_result"
    }
   ],
   "source": [
    "URL = []\n",
    "filtered = []\n",
    "\n",
    "b = 'https://www.sec.gov/cgi-bin/browse-edgar?action=getcompany&company=' \n",
    "e= '&type=10-K&dateb=&owner=exclude&count=100'\n",
    "\n",
    "for name in company_name:\n",
    "    if '&' not in name:\n",
    "        name = name.replace(' ', '+')\n",
    "        filtered.append(name)\n",
    "        url = b + name + e\n",
    "        URL.append(url)\n",
    "URL[20]"
   ]
  },
  {
   "cell_type": "code",
   "execution_count": 222,
   "metadata": {},
   "outputs": [
    {
     "data": {
      "text/plain": [
       "[<td scope=\"row\" valign=\"top\"><a href=\"/cgi-bin/browse-edgar?action=getcompany&amp;CIK=0001096752&amp;owner=exclude&amp;count=100&amp;hidefilings=0&amp;type=10-K\">0001096752</a></td>,\n",
       " <td scope=\"row\">EDGEWELL PERSONAL CARE Co<br/><acronym title=\"Standard Industrial Code\">SIC</acronym>: <a href=\"/cgi-bin/browse-edgar?action=getcompany&amp;SIC=2844&amp;owner=exclude&amp;count=100&amp;hidefilings=0\">2844</a> - PERFUMES, COSMETICS &amp; OTHER TOILET PREPARATIONS<br/>formerly: ENERGIZER HOLDINGS INC (filings through 2015-06-30)<br/></td>,\n",
       " <td scope=\"row\" valign=\"top\"><a href=\"/cgi-bin/browse-edgar?action=getcompany&amp;State=MO&amp;owner=exclude&amp;count=100&amp;hidefilings=0\">MO</a></td>]"
      ]
     },
     "execution_count": 222,
     "metadata": {},
     "output_type": "execute_result"
    }
   ],
   "source": [
    "\n",
    "for ind in range(0,len(URL)):\n",
    "    \n",
    "        source = urllib.request.urlopen(URL[ind])\n",
    "        html = source.read().decode('utf-8')        \n",
    "        soup = BeautifulSoup(html, \"html5lib\")\n",
    "        Info = soup.find_all(\"table\", summary = \"Results\")\n",
    "        \n",
    "Info[0].find_all('tr')[1].find_all('td')"
   ]
  },
  {
   "cell_type": "code",
   "execution_count": 194,
   "metadata": {},
   "outputs": [
    {
     "data": {
      "text/html": [
       "<div>\n",
       "<style scoped>\n",
       "    .dataframe tbody tr th:only-of-type {\n",
       "        vertical-align: middle;\n",
       "    }\n",
       "\n",
       "    .dataframe tbody tr th {\n",
       "        vertical-align: top;\n",
       "    }\n",
       "\n",
       "    .dataframe thead th {\n",
       "        text-align: right;\n",
       "    }\n",
       "</style>\n",
       "<table border=\"1\" class=\"dataframe\">\n",
       "  <thead>\n",
       "    <tr style=\"text-align: right;\">\n",
       "      <th></th>\n",
       "      <th>company_name</th>\n",
       "      <th>weblink</th>\n",
       "      <th>filing_type</th>\n",
       "      <th>date</th>\n",
       "    </tr>\n",
       "  </thead>\n",
       "  <tbody>\n",
       "    <tr>\n",
       "      <th>0</th>\n",
       "      <td>FMC CORP</td>\n",
       "      <td>/index.htm</td>\n",
       "      <td>10-K</td>\n",
       "      <td>2018-03-01</td>\n",
       "    </tr>\n",
       "    <tr>\n",
       "      <th>1</th>\n",
       "      <td>CORRECTIONS CORP</td>\n",
       "      <td>/cgi-bin/browse-edgar?action=getcurrent</td>\n",
       "      <td>10-K</td>\n",
       "      <td>2017-03-01</td>\n",
       "    </tr>\n",
       "    <tr>\n",
       "      <th>2</th>\n",
       "      <td>FIRST NIAGARA FINANC</td>\n",
       "      <td>javascript:history.back()</td>\n",
       "      <td>10-K</td>\n",
       "      <td>2016-02-26</td>\n",
       "    </tr>\n",
       "    <tr>\n",
       "      <th>3</th>\n",
       "      <td>GENPACT LTD</td>\n",
       "      <td>/index.htm</td>\n",
       "      <td>10-K</td>\n",
       "      <td>2015-02-27</td>\n",
       "    </tr>\n",
       "    <tr>\n",
       "      <th>4</th>\n",
       "      <td>INGREDION INC</td>\n",
       "      <td>/cgi-bin/browse-edgar?action=getcompany&amp;CIK=00...</td>\n",
       "      <td>10-K</td>\n",
       "      <td>2014-02-28</td>\n",
       "    </tr>\n",
       "    <tr>\n",
       "      <th>5</th>\n",
       "      <td>UNITED TECHNOLOGIES CORP</td>\n",
       "      <td>/index.htm</td>\n",
       "      <td>10-K</td>\n",
       "      <td>2013-03-01</td>\n",
       "    </tr>\n",
       "    <tr>\n",
       "      <th>6</th>\n",
       "      <td>HERBALIFE LTD</td>\n",
       "      <td>/edgar/searchedgar/webusers.htm</td>\n",
       "      <td>10-K</td>\n",
       "      <td>2012-02-29</td>\n",
       "    </tr>\n",
       "    <tr>\n",
       "      <th>7</th>\n",
       "      <td>FOREST CITY ENTERPRI</td>\n",
       "      <td>/edgar/searchedgar/companysearch.html</td>\n",
       "      <td>10-K</td>\n",
       "      <td>2011-03-01</td>\n",
       "    </tr>\n",
       "    <tr>\n",
       "      <th>8</th>\n",
       "      <td>L-3 COMMUNICATIONS</td>\n",
       "      <td>/cgi-bin/browse-edgar?action=getcompany&amp;CIK=00...</td>\n",
       "      <td>10-K</td>\n",
       "      <td>2010-02-23</td>\n",
       "    </tr>\n",
       "    <tr>\n",
       "      <th>9</th>\n",
       "      <td>ROVI CORP</td>\n",
       "      <td>/cgi-bin/browse-edgar?action=getcompany&amp;SIC=28...</td>\n",
       "      <td>10-K</td>\n",
       "      <td>2009-03-02</td>\n",
       "    </tr>\n",
       "  </tbody>\n",
       "</table>\n",
       "</div>"
      ],
      "text/plain": [
       "               company_name  \\\n",
       "0                  FMC CORP   \n",
       "1          CORRECTIONS CORP   \n",
       "2      FIRST NIAGARA FINANC   \n",
       "3               GENPACT LTD   \n",
       "4             INGREDION INC   \n",
       "5  UNITED TECHNOLOGIES CORP   \n",
       "6             HERBALIFE LTD   \n",
       "7      FOREST CITY ENTERPRI   \n",
       "8        L-3 COMMUNICATIONS   \n",
       "9                 ROVI CORP   \n",
       "\n",
       "                                             weblink filing_type        date  \n",
       "0                                         /index.htm        10-K  2018-03-01  \n",
       "1            /cgi-bin/browse-edgar?action=getcurrent        10-K  2017-03-01  \n",
       "2                          javascript:history.back()        10-K  2016-02-26  \n",
       "3                                         /index.htm        10-K  2015-02-27  \n",
       "4  /cgi-bin/browse-edgar?action=getcompany&CIK=00...        10-K  2014-02-28  \n",
       "5                                         /index.htm        10-K  2013-03-01  \n",
       "6                    /edgar/searchedgar/webusers.htm        10-K  2012-02-29  \n",
       "7              /edgar/searchedgar/companysearch.html        10-K  2011-03-01  \n",
       "8  /cgi-bin/browse-edgar?action=getcompany&CIK=00...        10-K  2010-02-23  \n",
       "9  /cgi-bin/browse-edgar?action=getcompany&SIC=28...        10-K  2009-03-02  "
      ]
     },
     "execution_count": 194,
     "metadata": {},
     "output_type": "execute_result"
    }
   ],
   "source": [
    "df1 = pd.DataFrame(company_name)\n",
    "df2 = pd.DataFrame(weblink)\n",
    "df3 = pd.DataFrame(filing_type)\n",
    "df4 = pd.DataFrame(date)\n",
    "names = ['company_name', 'weblink', 'filing_type', 'date']\n",
    "outputdf = pd.concat([df1, df2, df3, df4], axis = 1)\n",
    "outputdf.columns = names\n",
    "outputdf.head(10)"
   ]
  },
  {
   "cell_type": "markdown",
   "metadata": {
    "deletable": true,
    "editable": true
   },
   "source": [
    "#### The information on 10-K, 10-K/A, 10-K 405 of a company is in the the following link:\n",
    "\n",
    "##### 'https://www.sec.gov/cgi-bin/browse-edgar?action=getcompany&company=' + Company+Name (a space between the two companies is replaced by a '+') + '&type=10-K&dateb=&owner=exclude&count=100'"
   ]
  },
  {
   "cell_type": "markdown",
   "metadata": {
    "deletable": true,
    "editable": true
   },
   "source": [
    "#### So, your task will be to collect information on Company Name, Date of Filing, Filing Type and Link to the 'Document' of the filing type for each of the companies in the final dropped list"
   ]
  },
  {
   "cell_type": "markdown",
   "metadata": {
    "deletable": true,
    "editable": true
   },
   "source": [
    "#### Hint: Make sure to collect all the filing links in every companies page. Number of filings available for each company varies, so make sure you take care of that"
   ]
  },
  {
   "cell_type": "markdown",
   "metadata": {
    "deletable": true,
    "editable": true
   },
   "source": [
    "#### After populating the lists, you need to save the data in the following csv file, using what you have learned from the pandas lesson"
   ]
  },
  {
   "cell_type": "code",
   "execution_count": null,
   "metadata": {
    "collapsed": true,
    "deletable": true,
    "editable": true
   },
   "outputs": [],
   "source": [
    "outputdf.to_csv('10K Links.csv')"
   ]
  },
  {
   "cell_type": "code",
   "execution_count": null,
   "metadata": {
    "collapsed": true,
    "deletable": true,
    "editable": true
   },
   "outputs": [],
   "source": [
    "[0].get('href')"
   ]
  },
  {
   "cell_type": "code",
   "execution_count": null,
   "metadata": {},
   "outputs": [],
   "source": [
    "for row in Info[0].find_all('tr')[1:]:\n",
    "    col = row.find_all('td')\n",
    "\n",
    "    if col[0].getText == '10-k':\n",
    "\n",
    "        weblink.append(col[1].find_all('a', href = True)[0].get('href'))\n",
    "        filing_type.append(col[0].getText())\n",
    "        date.append(col[3].getText())\n",
    "\n",
    "col[1].find_all('a', href = True)[0]"
   ]
  }
 ],
 "metadata": {
  "kernelspec": {
   "display_name": "Python 3",
   "language": "python",
   "name": "python3"
  },
  "language_info": {
   "codemirror_mode": {
    "name": "ipython",
    "version": 3
   },
   "file_extension": ".py",
   "mimetype": "text/x-python",
   "name": "python",
   "nbconvert_exporter": "python",
   "pygments_lexer": "ipython3",
   "version": "3.6.6"
  }
 },
 "nbformat": 4,
 "nbformat_minor": 2
}
