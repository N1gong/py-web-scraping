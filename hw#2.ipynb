{
 "cells": [
  {
   "cell_type": "raw",
   "metadata": {},
   "source": [
    "Q1 Write into separte files"
   ]
  },
  {
   "cell_type": "markdown",
   "metadata": {},
   "source": [
    "impot urllib"
   ]
  },
  {
   "cell_type": "code",
   "execution_count": 137,
   "metadata": {},
   "outputs": [],
   "source": [
    "import urllib.request"
   ]
  },
  {
   "cell_type": "markdown",
   "metadata": {},
   "source": [
    "Get states"
   ]
  },
  {
   "cell_type": "code",
   "execution_count": 148,
   "metadata": {},
   "outputs": [
    {
     "name": "stdout",
     "output_type": "stream",
     "text": [
      "['10,Arkansas', '11,California', '12,Colorado', '13,Connecticut', '14,Delaware', '15,DC', '16,Florida', '17,Georgia', '18,Hawaii', '19,Idaho', '2,AllStatesU', '20,Illinois', '21,Indiana', '22,Iowa', '23,Kansas', '24,Kentucky', '25,Louisiana', '26,Maine', '27,Maryland', '28,Massachusetts', '29,Michigan', '3,AllStatesS', '30,Minnesota', '31,Mississippi', '32,Missouri', '33,Montana', '34,Nebraska', '35,Nevada', '36,NewHampshire', '37,NewJersey', '38,NewMexico', '39,NewYork', '4,RegionDivisionU', '40,NorthCarolina', '41,NorthDakota', '42,Ohio', '43,Oklahoma', '44,Oregon', '45,Pennsylvania', '46,PuertoRico', '47,RhodeIsland', '48,SouthCarolina', '49,SouthDakota', '5,RegionDivisionS', '50,Tennessee', '51,Texas', '52,Utah', '53,Vermont', '54,Virginia', '56,Washington', '57,WestVirginia', '58,Wisconsin', '59,Wyoming', '60,Metro', '61,Division', '62,Micro', '63,Combined', '64,County', '65,City', '7,Alabama', '8,Alaska', '9,Arizona']\n"
     ]
    }
   ],
   "source": [
    "Input_File = open('Files_Directory/BLS/HW2.BLS_state_codes.csv','r')\n",
    "Input_File = Input_File.read()   \n",
    "states_for_url = Input_File.splitlines(0)\n",
    "print(states_for_url)\n",
    "\n",
    "states=['Indiana', 'Mississippi', 'NewJersey']\n",
    "my_state=[]\n",
    "for item in states_for_url:\n",
    "    for line in states:\n",
    "        if line in item:\n",
    "            my_state.append(item[:2] + '.' + item[3:])\n"
   ]
  },
  {
   "cell_type": "markdown",
   "metadata": {},
   "source": [
    "Set url list"
   ]
  },
  {
   "cell_type": "code",
   "execution_count": 139,
   "metadata": {},
   "outputs": [
    {
     "data": {
      "text/plain": [
       "['https://download.bls.gov/pub/time.series/la/la.data.21.Indiana',\n",
       " 'https://download.bls.gov/pub/time.series/la/la.data.31.Mississippi',\n",
       " 'https://download.bls.gov/pub/time.series/la/la.data.37.NewJersey']"
      ]
     },
     "execution_count": 139,
     "metadata": {},
     "output_type": "execute_result"
    }
   ],
   "source": [
    "url = []\n",
    "for State in my_state:\n",
    "    url.append('https://download.bls.gov/pub/time.series/la/la.data.' + State)\n",
    "url"
   ]
  },
  {
   "cell_type": "markdown",
   "metadata": {},
   "source": [
    "Write to file separately"
   ]
  },
  {
   "cell_type": "code",
   "execution_count": 140,
   "metadata": {},
   "outputs": [
    {
     "name": "stdout",
     "output_type": "stream",
     "text": [
      "['Indiana', 'Mississippi', 'NewJersey']\n",
      "Indiana\n",
      "Mississippi\n",
      "NewJersey\n"
     ]
    }
   ],
   "source": [
    "state_names = []\n",
    "for st in my_state:\n",
    "    state_names.append(st[3:])\n",
    "print(state_names)\n",
    "\n",
    "for counter in range(0, len(url) ):\n",
    "    print(state_names[counter])\n",
    "    html = urllib.request.urlopen(url[counter]).read().decode('utf-8')\n",
    "    Output_File = open('Files_Directory/BLS/' + state_names[counter] +  '.txt','w')\n",
    "    Output_File.write(html)\n",
    "    Output_File.close()"
   ]
  },
  {
   "cell_type": "code",
   "execution_count": null,
   "metadata": {},
   "outputs": [],
   "source": []
  },
  {
   "cell_type": "code",
   "execution_count": 141,
   "metadata": {},
   "outputs": [],
   "source": [
    "import pandas as pd\n",
    "\n",
    "\n",
    "Indiana = pd.read_csv('Files_Directory/BLS/Indiana.txt', delimiter=\"\\t\")\n",
    "Mississippi = pd.read_csv('Files_Directory/BLS/Mississippi.txt', delimiter=\"\\t\")\n",
    "NewJersey = pd.read_csv('Files_Directory/BLS/NewJersey.txt', delimiter=\"\\t\")\n",
    "\n",
    "Indiana.drop('footnote_codes', inplace=True, axis=1)\n",
    "Mississippi.drop('footnote_codes', inplace=True, axis=1)\n",
    "NewJersey.drop('footnote_codes', inplace=True, axis=1)\n"
   ]
  },
  {
   "cell_type": "code",
   "execution_count": 142,
   "metadata": {},
   "outputs": [],
   "source": [
    "def form_date(year, month):\n",
    "    result = str(month[1:]) + '_' + str(year)\n",
    "    return result\n",
    "Indiana['month_year'] = Indiana.apply(lambda row: form_date(row['year'], row['period']), axis=1)\n",
    "Mississippi['month_year'] = Mississippi.apply(lambda row: form_date(row['year'], row['period']), axis=1)\n",
    "NewJersey['month_year'] = NewJersey.apply(lambda row: form_date(row['year'], row['period']), axis=1)\n",
    "\n",
    "Indiana = Indiana[(Indiana['year']>=2010) & (Indiana['year']<=2015)]\n",
    "Mississippi = Mississippi[(Mississippi['year']>=2010) & (Mississippi['year']<=2015)]\n",
    "NewJersey = NewJersey[(NewJersey['year']>=2010) & (NewJersey['year']<=2015)]\n"
   ]
  },
  {
   "cell_type": "code",
   "execution_count": 143,
   "metadata": {},
   "outputs": [],
   "source": [
    "Indiana.to_csv('Indiana_1.txt', sep='\\t', encoding='utf-8', index = False)\n",
    "Mississippi.to_csv('Mississippi_1.txt', sep='\\t', encoding='utf-8',index = False)\n",
    "NewJersey.to_csv('NewJersey_1.txt', sep='\\t', encoding='utf-8', index = False)"
   ]
  },
  {
   "cell_type": "code",
   "execution_count": null,
   "metadata": {},
   "outputs": [],
   "source": []
  },
  {
   "cell_type": "markdown",
   "metadata": {},
   "source": [
    "Q2 Write into one file"
   ]
  },
  {
   "cell_type": "code",
   "execution_count": 144,
   "metadata": {},
   "outputs": [
    {
     "name": "stdout",
     "output_type": "stream",
     "text": [
      "['31.Mississippi', '37.NewJersey', '39.NewYork']\n"
     ]
    }
   ],
   "source": [
    "import urllib.request\n",
    "\n",
    "Input_File_2 = open('Files_Directory/BLS/HW2.BLS_state_codes.csv','r')\n",
    "Input_File_2 = Input_File_2.read()   \n",
    "states_for_url_2 = Input_File_2.splitlines(0)\n",
    "states_for_url_2\n",
    "\n",
    "states_2 = ['NewYork', 'Mississippi', 'NewJersey']\n",
    "my_state_2 = []\n",
    "for item_2 in states_for_url_2:\n",
    "    for line_2 in states_2:\n",
    "        if line_2 in item_2:\n",
    "            my_state_2.append(item_2[:2] + '.' + item_2[3:])\n",
    "print(my_state_2)\n",
    "    "
   ]
  },
  {
   "cell_type": "code",
   "execution_count": 145,
   "metadata": {},
   "outputs": [
    {
     "name": "stdout",
     "output_type": "stream",
     "text": [
      "['Mississippi', 'NewJersey', 'NewYork']\n",
      "Mississippi\n",
      "NewJersey\n",
      "NewYork\n"
     ]
    }
   ],
   "source": [
    "url_2 = []\n",
    "for State_2 in my_state_2:\n",
    "    url_2.append('https://download.bls.gov/pub/time.series/la/la.data.' + State_2)\n",
    "url_2\n",
    "\n",
    "state_names_2 = []\n",
    "for st_2 in my_state_2:\n",
    "    state_names_2.append(st_2[3:])\n",
    "print(state_names_2)\n",
    "\n",
    "for counter_2 in range(0, len(url_2) ):\n",
    "    print(state_names_2[counter_2])\n",
    "    html_2 = urllib.request.urlopen(url_2[counter_2]).read().decode('utf-8')\n",
    "    Output_File_2 = open('Files_Directory/BLS/' + state_names_2[counter_2] +  '.txt','w')\n",
    "    Output_File_2.write(html_2)\n",
    "    Output_File_2.close()"
   ]
  },
  {
   "cell_type": "code",
   "execution_count": 147,
   "metadata": {},
   "outputs": [],
   "source": [
    "#Convert to Pandas DataFrame#\n",
    "\n",
    "import pandas as pd\n",
    "\n",
    "Mississippi = pd.read_csv('Files_Directory/BLS/Mississippi.txt', delimiter=\"\\t\")\n",
    "NewJersey = pd.read_csv('Files_Directory/BLS/NewJersey.txt', delimiter=\"\\t\")\n",
    "NewYork = pd.read_csv('Files_Directory/BLS/NewYork.txt', delimiter=\"\\t\")\n",
    "\n",
    "Mississippi['State'] = 'Mississippi'\n",
    "NewJersey['State'] = 'New_Jersey'\n",
    "NewYork['State'] = 'New_York'\n",
    "\n",
    "All_state = pd.concat([Mississippi, NewJersey, NewYork])\n",
    "All_states = All_state[(All_state['year']>=2010) & (All_state['year']<=2015)]\n",
    "All_states = All_states[All_states['period'] == 'M06']\n"
   ]
  },
  {
   "cell_type": "code",
   "execution_count": 131,
   "metadata": {},
   "outputs": [],
   "source": [
    "All_states.to_csv('All_states.txt', sep = \"\\t\", encoding='utf-8',index = False)"
   ]
  },
  {
   "cell_type": "code",
   "execution_count": 149,
   "metadata": {},
   "outputs": [
    {
     "name": "stdout",
     "output_type": "stream",
     "text": [
      "0\n"
     ]
    }
   ],
   "source": [
    "lst = ['a', 'b', 'nnnn']\n",
    "\n",
    "print(lst.index('a'))"
   ]
  },
  {
   "cell_type": "code",
   "execution_count": null,
   "metadata": {},
   "outputs": [],
   "source": []
  }
 ],
 "metadata": {
  "kernelspec": {
   "display_name": "Python 3",
   "language": "python",
   "name": "python3"
  },
  "language_info": {
   "codemirror_mode": {
    "name": "ipython",
    "version": 3
   },
   "file_extension": ".py",
   "mimetype": "text/x-python",
   "name": "python",
   "nbconvert_exporter": "python",
   "pygments_lexer": "ipython3",
   "version": "3.6.6"
  }
 },
 "nbformat": 4,
 "nbformat_minor": 2
}
